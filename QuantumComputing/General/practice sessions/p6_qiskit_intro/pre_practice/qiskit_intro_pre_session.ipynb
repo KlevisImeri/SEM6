{
 "cells": [
  {
   "cell_type": "markdown",
   "id": "c8c222ae",
   "metadata": {
    "slideshow": {
     "slide_type": "slide"
    }
   },
   "source": [
    "# Programming of quantum computers: Introduction to Qiskit\n",
    "\n",
    "## Quantum Computing and its Applications,\n",
    "### 2025 Spring\n",
    "\n",
    "#### Balázs Solymos, Dr. László Bacsárdi, Dr. Sándor Imre\n",
    "solymosb@hit.bme.hu"
   ]
  },
  {
   "cell_type": "markdown",
   "id": "723872c2",
   "metadata": {
    "slideshow": {
     "slide_type": "subslide"
    }
   },
   "source": [
    "## General info\n",
    "The notebook used during this session will be available in the Teams group of the course.\n",
    "\n",
    "During the practice session we use the [Qiskit](https://qiskit.org/) python library with the [Jupyter Notebook](https://jupyter.org/) development environment.\n",
    "For those wanting to follow along using their own machine (either during the practice session or after the session at home) an insrallation of Python, Jupyter notebook and Qiskit is needed. The last two can be added to an existing Python installation utilizing `pip` by the following command.\n",
    "\n",
    "```\n",
    "pip install notebook\n",
    "pip install qiskit[visualization]\n",
    "pip install qiskit-ibm-runtime\n",
    "pip install qiskit-aer\n",
    "```\n",
    "\n",
    "Then, Jupyter can be started by the command \"`jupyter notebook`\"."
   ]
  },
  {
   "cell_type": "markdown",
   "id": "157ecc2d",
   "metadata": {
    "slideshow": {
     "slide_type": "slide"
    }
   },
   "source": [
    "## 1. Simple quantum circuits with Qiskit\n",
    "\n",
    "Egy áramkört a \"QuantumCircuit\" osztály példányosításával tudunk létrehozni.\n",
    "A circuit object can be created using the \"QuantumCircuit\" class."
   ]
  },
  {
   "cell_type": "code",
   "execution_count": 1,
   "id": "ee98b291",
   "metadata": {
    "slideshow": {
     "slide_type": "-"
    }
   },
   "outputs": [],
   "source": [
    "from qiskit import QuantumCircuit #import the required library\n",
    "qc = QuantumCircuit(3)            # create a QuantumCircuit object"
   ]
  },
  {
   "cell_type": "markdown",
   "id": "9ed7973a",
   "metadata": {
    "slideshow": {
     "slide_type": "-"
    }
   },
   "source": [
    "The number of qubits can be given to the constructor as a parameter. The individual qubits are indexed starting from index 0."
   ]
  },
  {
   "cell_type": "markdown",
   "id": "96fbe131",
   "metadata": {
    "slideshow": {
     "slide_type": "subslide"
    }
   },
   "source": [
    "## Adding quantum gates\n",
    "\n",
    "If we want to add quantum gates, we can do so by utilizing the corresponding functions of the ciecuit object."
   ]
  },
  {
   "cell_type": "code",
   "execution_count": 2,
   "id": "e9409289",
   "metadata": {
    "slideshow": {
     "slide_type": "-"
    }
   },
   "outputs": [
    {
     "data": {
      "text/plain": [
       "<qiskit.circuit.instructionset.InstructionSet at 0x1fb29f649a0>"
      ]
     },
     "execution_count": 2,
     "metadata": {},
     "output_type": "execute_result"
    }
   ],
   "source": [
    "qc.h(0)"
   ]
  },
  {
   "cell_type": "markdown",
   "id": "6b94e877",
   "metadata": {
    "slideshow": {
     "slide_type": "-"
    }
   },
   "source": [
    "We can also add controlled gates. The first parameter is then the index of the control qubit, with the second parameter being the index of the target qubit."
   ]
  },
  {
   "cell_type": "code",
   "execution_count": 3,
   "id": "e06c5f77",
   "metadata": {
    "slideshow": {
     "slide_type": "-"
    }
   },
   "outputs": [
    {
     "data": {
      "text/plain": [
       "<qiskit.circuit.instructionset.InstructionSet at 0x1fb2ac3f5e0>"
      ]
     },
     "execution_count": 3,
     "metadata": {},
     "output_type": "execute_result"
    }
   ],
   "source": [
    "qc.cx(0,1)\n",
    "qc.cx(0,2)"
   ]
  },
  {
   "cell_type": "markdown",
   "id": "aa7e5d8e",
   "metadata": {
    "slideshow": {
     "slide_type": "subslide"
    }
   },
   "source": [
    "## Visualizing circuits\n",
    "\n",
    "We can visualize a circuit using the \"draw()\" function.\n",
    "\n",
    "The parameter of the function is a string, specifying the output format.\n",
    "\n",
    "e.g.: \"text\", \"latex\" or \"mpl\"."
   ]
  },
  {
   "cell_type": "code",
   "execution_count": 4,
   "id": "87b45f0b",
   "metadata": {
    "slideshow": {
     "slide_type": "-"
    }
   },
   "outputs": [
    {
     "data": {
      "image/jpeg": "[encoded data removed]",
      "image/png": "[encoded data removed]",
      "text/plain": [
       "<PIL.Image.Image image mode=RGB size=206x85>"
      ]
     },
     "execution_count": 4,
     "metadata": {},
     "output_type": "execute_result"
    }
   ],
   "source": [
    "\n",
    "qc.draw(\"latex\")"
   ]
  },
  {
   "cell_type": "markdown",
   "id": "dfa79f09",
   "metadata": {
    "slideshow": {
     "slide_type": "subslide"
    }
   },
   "source": [
    "## Circuits in Qiskit\n",
    "\n",
    "How does Qiskit handle circuits?\n",
    "\n",
    "Lets look at the simple X gate!"
   ]
  },
  {
   "cell_type": "code",
   "execution_count": 5,
   "id": "083572c9",
   "metadata": {
    "slideshow": {
     "slide_type": "-"
    }
   },
   "outputs": [
    {
     "data": {
      "image/png": "[encoded data removed]",
      "text/plain": [
       "<Figure size 146.652x144.48 with 1 Axes>"
      ]
     },
     "execution_count": 5,
     "metadata": {},
     "output_type": "execute_result"
    }
   ],
   "source": [
    "qc_x = QuantumCircuit(2,0)\n",
    "qc_x.x(0)\n",
    "qc_x.draw(\"mpl\")"
   ]
  },
  {
   "cell_type": "markdown",
   "id": "28df837a",
   "metadata": {
    "slideshow": {
     "slide_type": "subslide"
    }
   },
   "source": [
    "### Stored data structure"
   ]
  },
  {
   "cell_type": "code",
   "execution_count": 6,
   "id": "94eeb58c",
   "metadata": {
    "slideshow": {
     "slide_type": "-"
    }
   },
   "outputs": [
    {
     "data": {
      "text/plain": [
       "[CircuitInstruction(operation=Instruction(name='x', num_qubits=1, num_clbits=0, params=[]), qubits=(Qubit(QuantumRegister(2, 'q'), 0),), clbits=())]"
      ]
     },
     "execution_count": 6,
     "metadata": {},
     "output_type": "execute_result"
    }
   ],
   "source": [
    "qc_x.data"
   ]
  },
  {
   "cell_type": "markdown",
   "id": "4256c49c",
   "metadata": {},
   "source": [
    "The \"X\" gate:"
   ]
  },
  {
   "cell_type": "code",
   "execution_count": 7,
   "id": "a0dfdf79",
   "metadata": {
    "slideshow": {
     "slide_type": "-"
    }
   },
   "outputs": [
    {
     "data": {
      "image/png": "[encoded data removed]",
      "text/plain": [
       "<Figure size 133.526x84.28 with 1 Axes>"
      ]
     },
     "execution_count": 7,
     "metadata": {},
     "output_type": "execute_result"
    }
   ],
   "source": [
    "qc_x.data[0].operation.definition.draw('mpl')"
   ]
  },
  {
   "cell_type": "markdown",
   "id": "fd00a713",
   "metadata": {
    "slideshow": {
     "slide_type": "-"
    }
   },
   "source": [
    "Important: `CircuitInstruction` and `QuantumCircuit` are different, even though both describes modifying quantum bits."
   ]
  },
  {
   "cell_type": "markdown",
   "id": "877f96e2",
   "metadata": {
    "slideshow": {
     "slide_type": "subslide"
    }
   },
   "source": [
    "### Combining circuits.\n",
    "Two seperately created circutis can be combined with the \"compose\" function"
   ]
  },
  {
   "cell_type": "code",
   "execution_count": 8,
   "id": "3613a0d6",
   "metadata": {
    "slideshow": {
     "slide_type": "-"
    }
   },
   "outputs": [],
   "source": [
    "qc_a = QuantumCircuit(3) #First circuit\n",
    "qc_a.x(1) \n",
    "qc_b = QuantumCircuit(2, name=\"qc_b\") #Second circuit\n",
    "qc_b.x(0)\n",
    "qc_b.z(1)\n",
    "combined = qc_a.compose(qc_b, qubits=[1, 2]) #Adding them together"
   ]
  },
  {
   "cell_type": "markdown",
   "id": "526b8e4f",
   "metadata": {
    "slideshow": {
     "slide_type": "-"
    }
   },
   "source": [
    " The first parameter of the function is the circuit to add to our current circuit object. The second parameter are the list of qubits it will act on."
   ]
  },
  {
   "cell_type": "code",
   "execution_count": 9,
   "id": "5bd17964",
   "metadata": {},
   "outputs": [
    {
     "data": {
      "image/png": "[encoded data removed]",
      "text/plain": [
       "<Figure size 206.997x204.68 with 1 Axes>"
      ]
     },
     "execution_count": 9,
     "metadata": {},
     "output_type": "execute_result"
    }
   ],
   "source": [
    "combined.draw(\"mpl\")"
   ]
  },
  {
   "cell_type": "markdown",
   "id": "01efa36f",
   "metadata": {
    "slideshow": {
     "slide_type": "subslide"
    }
   },
   "source": [
    "### Combining circuits 2.\n",
    "\n",
    "An alternative solution is to use the \".to_instruction()\" function to convert the circuit into an instruction, after which it can be used as a simple gate.\n"
   ]
  },
  {
   "cell_type": "code",
   "execution_count": 10,
   "id": "0165161b",
   "metadata": {},
   "outputs": [],
   "source": [
    "qc_a = QuantumCircuit(3)\n",
    "qc_a.x(1)\n",
    "qc_b = QuantumCircuit(2, name=\"qc_b\")\n",
    "qc_b.x(0)\n",
    "qc_b.z(1)\n",
    "inst = qc_b.to_instruction()"
   ]
  },
  {
   "cell_type": "markdown",
   "id": "60c8abfc",
   "metadata": {},
   "source": [
    "The \"append\" function can then be used to append our instruction to a circuit.\n",
    "The list of qubits to act on need to be given here too as a parameter."
   ]
  },
  {
   "cell_type": "code",
   "execution_count": 11,
   "id": "d0eacdf8",
   "metadata": {},
   "outputs": [
    {
     "data": {
      "text/plain": [
       "<qiskit.circuit.instructionset.InstructionSet at 0x1fb2ccce760>"
      ]
     },
     "execution_count": 11,
     "metadata": {},
     "output_type": "execute_result"
    }
   ],
   "source": [
    "qc_a.append(inst, [1, 2])"
   ]
  },
  {
   "cell_type": "markdown",
   "id": "d13bd4bb",
   "metadata": {
    "slideshow": {
     "slide_type": "subslide"
    }
   },
   "source": [
    "### Combining circuits 2."
   ]
  },
  {
   "cell_type": "code",
   "execution_count": 12,
   "id": "c6dd884b",
   "metadata": {},
   "outputs": [
    {
     "data": {
      "image/png": "[encoded data removed]",
      "text/plain": [
       "<Figure size 267.197x204.68 with 1 Axes>"
      ]
     },
     "execution_count": 12,
     "metadata": {},
     "output_type": "execute_result"
    }
   ],
   "source": [
    "qc_a.draw(\"mpl\")"
   ]
  },
  {
   "cell_type": "markdown",
   "id": "28776aad",
   "metadata": {},
   "source": [
    "Using the \"decompose\" function we can see how an instruction is realized."
   ]
  },
  {
   "cell_type": "code",
   "execution_count": 13,
   "id": "8340ca50",
   "metadata": {},
   "outputs": [
    {
     "data": {
      "image/png": "[encoded data removed]",
      "text/plain": [
       "<Figure size 206.997x204.68 with 1 Axes>"
      ]
     },
     "execution_count": 13,
     "metadata": {},
     "output_type": "execute_result"
    }
   ],
   "source": [
    "qc_a.decompose().draw(\"mpl\")"
   ]
  },
  {
   "cell_type": "markdown",
   "id": "c19806b9",
   "metadata": {
    "slideshow": {
     "slide_type": "subslide"
    }
   },
   "source": [
    "### Creating controlled gates\n",
    "If the circuit we use to create an instruction is unitary, then we can use it as any other unitary gate. For example, this means that we can also create controlled versions from it."
   ]
  },
  {
   "cell_type": "code",
   "execution_count": 14,
   "id": "4d379ae4",
   "metadata": {},
   "outputs": [
    {
     "data": {
      "image/png": "[encoded data removed]",
      "text/plain": [
       "<Figure size 387.597x204.68 with 1 Axes>"
      ]
     },
     "execution_count": 14,
     "metadata": {},
     "output_type": "execute_result"
    }
   ],
   "source": [
    "gate = qc_b.to_gate().control()\n",
    "# Since it is a controlled gate we need to give 3 qubits.\n",
    "qc_a.append(gate, [0, 1, 2])\n",
    "qc_a.draw(\"mpl\")"
   ]
  },
  {
   "cell_type": "markdown",
   "id": "561fc9ec",
   "metadata": {
    "slideshow": {
     "slide_type": "subslide"
    }
   },
   "source": [
    "### Creating controlled gates\n",
    "Decomposition:"
   ]
  },
  {
   "cell_type": "code",
   "execution_count": 15,
   "id": "12592c47",
   "metadata": {},
   "outputs": [
    {
     "data": {
      "image/png": "[encoded data removed]",
      "text/plain": [
       "<Figure size 387.597x204.68 with 1 Axes>"
      ]
     },
     "execution_count": 15,
     "metadata": {},
     "output_type": "execute_result"
    }
   ],
   "source": [
    "qc_a.decompose().draw(\"mpl\")"
   ]
  },
  {
   "cell_type": "markdown",
   "id": "517bc53e",
   "metadata": {
    "slideshow": {
     "slide_type": "slide"
    }
   },
   "source": [
    "## Initializing ciruits with a state vector\n",
    "Initialization (now using registers):"
   ]
  },
  {
   "cell_type": "code",
   "execution_count": 16,
   "id": "578f0657",
   "metadata": {},
   "outputs": [],
   "source": [
    "from qiskit import QuantumRegister, ClassicalRegister, QuantumCircuit\n",
    "q = QuantumRegister(2,'q') #creating the register containing the qubits\n",
    "c = ClassicalRegister(2,'c') #creating the register containing the classical bits\n",
    "qc = QuantumCircuit(q,c) #create a quantumcircuit from the registers"
   ]
  },
  {
   "cell_type": "markdown",
   "id": "fe70c584",
   "metadata": {},
   "source": [
    "Define the state vector:"
   ]
  },
  {
   "cell_type": "code",
   "execution_count": 17,
   "id": "ba891486",
   "metadata": {},
   "outputs": [],
   "source": [
    "from qiskit.quantum_info import Statevector\n",
    "state1 = Statevector([0.6,0.8])"
   ]
  },
  {
   "cell_type": "markdown",
   "id": "48d0f68d",
   "metadata": {
    "slideshow": {
     "slide_type": "subslide"
    }
   },
   "source": [
    "State initialization:"
   ]
  },
  {
   "cell_type": "code",
   "execution_count": 18,
   "id": "54d1f487",
   "metadata": {},
   "outputs": [
    {
     "data": {
      "text/plain": [
       "<qiskit.circuit.instructionset.InstructionSet at 0x1fb2cf3b1f0>"
      ]
     },
     "execution_count": 18,
     "metadata": {},
     "output_type": "execute_result"
    }
   ],
   "source": [
    "qc.initialize(state1,qubits=q[0], normalize=True)"
   ]
  },
  {
   "cell_type": "markdown",
   "id": "89f7abb7",
   "metadata": {},
   "source": [
    "The created circuit:"
   ]
  },
  {
   "cell_type": "code",
   "execution_count": 19,
   "id": "0fa155c7",
   "metadata": {},
   "outputs": [
    {
     "data": {
      "image/png": "[encoded data removed]",
      "text/plain": [
       "<Figure size 146.652x204.68 with 1 Axes>"
      ]
     },
     "execution_count": 19,
     "metadata": {},
     "output_type": "execute_result"
    }
   ],
   "source": [
    "qc.draw(\"mpl\")"
   ]
  },
  {
   "cell_type": "markdown",
   "id": "ad9e2377",
   "metadata": {
    "slideshow": {
     "slide_type": "subslide"
    }
   },
   "source": [
    "Getting the state vector from a circuit:"
   ]
  },
  {
   "cell_type": "code",
   "execution_count": 20,
   "id": "a5e9cf17",
   "metadata": {},
   "outputs": [
    {
     "name": "stdout",
     "output_type": "stream",
     "text": [
      "Statevector([0.6+0.j, 0.8+0.j, 0. +0.j, 0. +0.j],\n",
      "            dims=(2, 2))\n"
     ]
    }
   ],
   "source": [
    "state_qc = Statevector(qc)\n",
    "print(state_qc)"
   ]
  },
  {
   "cell_type": "markdown",
   "id": "081ce352",
   "metadata": {},
   "source": [
    "The state can be also printed in the familiar LaTeX form:"
   ]
  },
  {
   "cell_type": "code",
   "execution_count": 21,
   "id": "93e9128c",
   "metadata": {},
   "outputs": [
    {
     "data": {
      "text/latex": [
       "$$\n",
       "\n",
       "\\begin{bmatrix}\n",
       "\\frac{3}{5} & \\frac{4}{5} & 0 & 0  \\\\\n",
       " \\end{bmatrix}\n",
       "$$"
      ],
      "text/plain": [
       "<IPython.core.display.Latex object>"
      ]
     },
     "execution_count": 21,
     "metadata": {},
     "output_type": "execute_result"
    }
   ],
   "source": [
    "from qiskit.visualization import array_to_latex\n",
    "array_to_latex(state_qc) # print with LaTex"
   ]
  },
  {
   "cell_type": "markdown",
   "id": "4056c9ba",
   "metadata": {
    "slideshow": {
     "slide_type": "slide"
    }
   },
   "source": [
    "## Running circuits\n",
    "\n",
    "To run the circuits we mainly use simulators. (Using quantum computers available in the cloud is also a possibility, though be prepared for waiting queues.)\n",
    "\n",
    "In most cases, the expected final output of the circuit simulation is some classical information.\n",
    "For this, we need an additional operation: measurement. This step realizes the specified measurement operator on a quantum register and writes the measurement result into a classical register."
   ]
  },
  {
   "cell_type": "markdown",
   "id": "bf348e55",
   "metadata": {
    "slideshow": {
     "slide_type": "subslide"
    }
   },
   "source": [
    "Let's create a quantum circuit that has both quantum and classical registers:"
   ]
  },
  {
   "cell_type": "code",
   "execution_count": 22,
   "id": "ec80aaec",
   "metadata": {},
   "outputs": [
    {
     "data": {
      "text/html": [
       "<pre style=\"word-wrap: normal;white-space: pre;background: #fff0;line-height: 1.1;font-family: &quot;Courier New&quot;,Courier,monospace\">     ┌───┐     \n",
       "q_0: ┤ H ├──■──\n",
       "     └───┘┌─┴─┐\n",
       "q_1: ─────┤ X ├\n",
       "          └───┘\n",
       "c: 2/══════════\n",
       "               </pre>"
      ],
      "text/plain": [
       "     ┌───┐     \n",
       "q_0: ┤ H ├──■──\n",
       "     └───┘┌─┴─┐\n",
       "q_1: ─────┤ X ├\n",
       "          └───┘\n",
       "c: 2/══════════\n",
       "               "
      ]
     },
     "execution_count": 22,
     "metadata": {},
     "output_type": "execute_result"
    }
   ],
   "source": [
    "qc = QuantumCircuit(2,2) # second parameter is the number of classical bits\n",
    "qc.h(0)\n",
    "qc.cx(0,1)\n",
    "qc.draw()"
   ]
  },
  {
   "cell_type": "markdown",
   "id": "d0a0259a",
   "metadata": {},
   "source": [
    "Let's use the statevector simulator!"
   ]
  },
  {
   "cell_type": "code",
   "execution_count": 23,
   "id": "b7df8a5d",
   "metadata": {},
   "outputs": [
    {
     "data": {
      "text/latex": [
       "$$\n",
       "\n",
       "\\begin{bmatrix}\n",
       "\\frac{\\sqrt{2}}{2} & 0 & 0 & \\frac{\\sqrt{2}}{2}  \\\\\n",
       " \\end{bmatrix}\n",
       "$$"
      ],
      "text/plain": [
       "<IPython.core.display.Latex object>"
      ]
     },
     "execution_count": 23,
     "metadata": {},
     "output_type": "execute_result"
    }
   ],
   "source": [
    "from qiskit_aer import Aer\n",
    "backend = Aer.get_backend(\"statevector_simulator\")\n",
    "job = backend.run(qc)\n",
    "result = job.result() # Blokkoló hívás!\n",
    "outputstate = result.get_statevector(qc)\n",
    "array_to_latex(outputstate)"
   ]
  },
  {
   "cell_type": "markdown",
   "id": "afa8eaaf",
   "metadata": {
    "slideshow": {
     "slide_type": "subslide"
    }
   },
   "source": [
    " The \"measure\" function is used to define measurements in the circuit. Its first parameter is the list of qubits to measure and the second is the list of classical bits to store the results. Lets use the Aer simulator to run a ciruit with measurements!"
   ]
  },
  {
   "cell_type": "code",
   "execution_count": 24,
   "id": "0a1e7bf2",
   "metadata": {},
   "outputs": [
    {
     "data": {
      "image/png": "[encoded data removed]",
      "text/plain": [
       "<Figure size 327.252x204.68 with 1 Axes>"
      ]
     },
     "execution_count": 24,
     "metadata": {},
     "output_type": "execute_result"
    }
   ],
   "source": [
    "qc.measure(range(2), range(2))\n",
    "qc.draw(\"mpl\")"
   ]
  },
  {
   "cell_type": "code",
   "execution_count": 25,
   "id": "85ecaf57",
   "metadata": {},
   "outputs": [
    {
     "name": "stdout",
     "output_type": "stream",
     "text": [
      "{'00': 485, '11': 515}\n"
     ]
    }
   ],
   "source": [
    "backend = Aer.get_backend(\"aer_simulator\")\n",
    "result = backend.run(qc, shots=1000).result()\n",
    "# We can acces the measurement results with the result.get_counts function.\n",
    "counts = result.get_counts()\n",
    "print(counts)"
   ]
  },
  {
   "cell_type": "markdown",
   "id": "97498a19",
   "metadata": {
    "slideshow": {
     "slide_type": "subslide"
    }
   },
   "source": [
    "We can plot the measurement results on a histogram."
   ]
  },
  {
   "cell_type": "code",
   "execution_count": 26,
   "id": "94a1337f",
   "metadata": {
    "slideshow": {
     "slide_type": "-"
    }
   },
   "outputs": [
    {
     "data": {
      "image/png": "[encoded data removed]",
      "text/plain": [
       "<Figure size 432x288 with 1 Axes>"
      ]
     },
     "execution_count": 26,
     "metadata": {},
     "output_type": "execute_result"
    }
   ],
   "source": [
    "from qiskit.visualization import plot_histogram\n",
    "plot_histogram(counts)"
   ]
  },
  {
   "cell_type": "markdown",
   "id": "e5787fe7",
   "metadata": {
    "slideshow": {
     "slide_type": "subslide"
    }
   },
   "source": [
    "### Getting state vectors from the simulation\n",
    "Prepare the circuit:"
   ]
  },
  {
   "cell_type": "code",
   "execution_count": 27,
   "id": "01dddf6e",
   "metadata": {},
   "outputs": [
    {
     "data": {
      "text/html": [
       "<pre style=\"word-wrap: normal;white-space: pre;background: #fff0;line-height: 1.1;font-family: &quot;Courier New&quot;,Courier,monospace\">     ┌───┐      before_meas ┌─┐ after_meas    \n",
       "q_0: ┤ H ├──■────────░──────┤M├─────░─────────\n",
       "     └───┘┌─┴─┐      ░      └╥┘     ░      ┌─┐\n",
       "q_1: ─────┤ X ├──────░───────╫──────░──────┤M├\n",
       "          └───┘      ░       ║      ░      └╥┘\n",
       "c: 2/════════════════════════╩══════════════╩═\n",
       "                             0              1 </pre>"
      ],
      "text/plain": [
       "     ┌───┐      before_meas ┌─┐ after_meas    \n",
       "q_0: ┤ H ├──■────────░──────┤M├─────░─────────\n",
       "     └───┘┌─┴─┐      ░      └╥┘     ░      ┌─┐\n",
       "q_1: ─────┤ X ├──────░───────╫──────░──────┤M├\n",
       "          └───┘      ░       ║      ░      └╥┘\n",
       "c: 2/════════════════════════╩══════════════╩═\n",
       "                             0              1 "
      ]
     },
     "execution_count": 27,
     "metadata": {},
     "output_type": "execute_result"
    }
   ],
   "source": [
    "q = QuantumRegister(2,'q') #Create register for qbits (q[index] to index individual bits)\n",
    "c = ClassicalRegister(2,'c') #Create register for classical bits (c[index] to index individual bits)\n",
    "qc = QuantumCircuit(q,c) #create circuit from registers\n",
    "qc.h(q[0]) #H gate\n",
    "qc.cx(q[0],q[1]) #CNOT gate\n",
    "qc.save_statevector(label = 'before_meas', pershot = True)\n",
    "qc.measure(q[0],c[0])\n",
    "qc.save_statevector(label = 'after_meas', pershot = True)\n",
    "qc.measure(q[1],c[1])\n",
    "qc.draw()"
   ]
  },
  {
   "cell_type": "markdown",
   "id": "0e1ed994",
   "metadata": {
    "slideshow": {
     "slide_type": "subslide"
    }
   },
   "source": [
    "Simulation:"
   ]
  },
  {
   "cell_type": "code",
   "execution_count": 28,
   "id": "21251c46",
   "metadata": {},
   "outputs": [
    {
     "name": "stdout",
     "output_type": "stream",
     "text": [
      "[Statevector([0.70710678+0.j, 0.        +0.j, 0.        +0.j,\n",
      "             0.70710678+0.j],\n",
      "            dims=(2, 2)), Statevector([0.70710678+0.j, 0.        +0.j, 0.        +0.j,\n",
      "             0.70710678+0.j],\n",
      "            dims=(2, 2)), Statevector([0.70710678+0.j, 0.        +0.j, 0.        +0.j,\n",
      "             0.70710678+0.j],\n",
      "            dims=(2, 2)), Statevector([0.70710678+0.j, 0.        +0.j, 0.        +0.j,\n",
      "             0.70710678+0.j],\n",
      "            dims=(2, 2))]\n",
      "[Statevector([0.+0.j, 0.+0.j, 0.+0.j, 1.+0.j],\n",
      "            dims=(2, 2)), Statevector([0.+0.j, 0.+0.j, 0.+0.j, 1.+0.j],\n",
      "            dims=(2, 2)), Statevector([0.+0.j, 0.+0.j, 0.+0.j, 1.+0.j],\n",
      "            dims=(2, 2)), Statevector([1.+0.j, 0.+0.j, 0.+0.j, 0.+0.j],\n",
      "            dims=(2, 2))]\n"
     ]
    }
   ],
   "source": [
    "from qiskit import transpile\n",
    "backend = Aer.get_backend('qasm_simulator')\n",
    "job_sim = backend.run(transpile(qc, backend), shots=4,memory=True) # 4-szer ismételjük meg a kísérletet, hogy statisztikát kapjunk és elvégezzük a mérést\n",
    "#get measurement results\n",
    "result_sim = job_sim.result()\n",
    "print(result_sim.data(0)['before_meas'])\n",
    "print(result_sim.data(0)['after_meas'])"
   ]
  },
  {
   "cell_type": "markdown",
   "id": "cabd9772",
   "metadata": {
    "slideshow": {
     "slide_type": "slide"
    }
   },
   "source": [
    "## Preparing arbitrary qubits\n",
    "Create a circuit that can prepare an arbitrary quantum state!"
   ]
  },
  {
   "cell_type": "markdown",
   "id": "eedf6734",
   "metadata": {
    "slideshow": {
     "slide_type": "subslide"
    }
   },
   "source": [
    "Goal: Create a|0> + b|1> state in a quantum register."
   ]
  },
  {
   "cell_type": "code",
   "execution_count": 29,
   "id": "c6920650",
   "metadata": {},
   "outputs": [
    {
     "name": "stdout",
     "output_type": "stream",
     "text": [
      "Statevector([1.+0.j, 0.+0.j],\n",
      "            dims=(2,))\n"
     ]
    },
    {
     "data": {
      "text/html": [
       "<pre style=\"word-wrap: normal;white-space: pre;background: #fff0;line-height: 1.1;font-family: &quot;Courier New&quot;,Courier,monospace\">   \n",
       "q: \n",
       "   </pre>"
      ],
      "text/plain": [
       "   \n",
       "q: \n",
       "   "
      ]
     },
     "execution_count": 29,
     "metadata": {},
     "output_type": "execute_result"
    }
   ],
   "source": [
    "import numpy as np\n",
    "a = 0.6\n",
    "b = 0.8\n",
    "qc = QuantumCircuit(1)\n",
    "print(Statevector(qc))\n",
    "qc.draw() \n",
    "\n",
    "\n",
    "\n",
    "\n",
    "\n"
   ]
  },
  {
   "cell_type": "markdown",
   "id": "e17536cb",
   "metadata": {
    "slideshow": {
     "slide_type": "slide"
    }
   },
   "source": [
    "## Superdense coding\n",
    "Remember from lecture:\n",
    "![Szupersűrű tömörítés áramköre](szupersuru.png)"
   ]
  },
  {
   "cell_type": "markdown",
   "id": "39ae2343",
   "metadata": {
    "slideshow": {
     "slide_type": "subslide"
    }
   },
   "source": [
    "Create the circuit!"
   ]
  },
  {
   "cell_type": "code",
   "execution_count": 30,
   "id": "c5392887",
   "metadata": {
    "slideshow": {
     "slide_type": "subslide"
    }
   },
   "outputs": [
    {
     "ename": "QiskitError",
     "evalue": "'No counts for experiment \"0\"'",
     "output_type": "error",
     "traceback": [
      "\u001b[1;31m---------------------------------------------------------------------------\u001b[0m",
      "\u001b[1;31mQiskitError\u001b[0m                               Traceback (most recent call last)",
      "\u001b[1;32m~\\AppData\\Local\\Temp/ipykernel_9324/239328567.py\u001b[0m in \u001b[0;36m<module>\u001b[1;34m\u001b[0m\n\u001b[0;32m      6\u001b[0m \u001b[0mbackend\u001b[0m \u001b[1;33m=\u001b[0m \u001b[0mAer\u001b[0m\u001b[1;33m.\u001b[0m\u001b[0mget_backend\u001b[0m\u001b[1;33m(\u001b[0m\u001b[1;34m\"aer_simulator\"\u001b[0m\u001b[1;33m)\u001b[0m\u001b[1;33m\u001b[0m\u001b[1;33m\u001b[0m\u001b[0m\n\u001b[0;32m      7\u001b[0m \u001b[0mresult\u001b[0m \u001b[1;33m=\u001b[0m \u001b[0mbackend\u001b[0m\u001b[1;33m.\u001b[0m\u001b[0mrun\u001b[0m\u001b[1;33m(\u001b[0m\u001b[0mqc\u001b[0m\u001b[1;33m,\u001b[0m \u001b[0mshots\u001b[0m\u001b[1;33m=\u001b[0m\u001b[1;36m1000\u001b[0m\u001b[1;33m)\u001b[0m\u001b[1;33m.\u001b[0m\u001b[0mresult\u001b[0m\u001b[1;33m(\u001b[0m\u001b[1;33m)\u001b[0m\u001b[1;33m\u001b[0m\u001b[1;33m\u001b[0m\u001b[0m\n\u001b[1;32m----> 8\u001b[1;33m \u001b[0mcounts\u001b[0m \u001b[1;33m=\u001b[0m \u001b[0mresult\u001b[0m\u001b[1;33m.\u001b[0m\u001b[0mget_counts\u001b[0m\u001b[1;33m(\u001b[0m\u001b[1;33m)\u001b[0m\u001b[1;33m\u001b[0m\u001b[1;33m\u001b[0m\u001b[0m\n\u001b[0m\u001b[0;32m      9\u001b[0m \u001b[0mprint\u001b[0m\u001b[1;33m(\u001b[0m\u001b[0mcounts\u001b[0m\u001b[1;33m)\u001b[0m\u001b[1;33m\u001b[0m\u001b[1;33m\u001b[0m\u001b[0m\n\u001b[0;32m     10\u001b[0m \u001b[0mqc\u001b[0m\u001b[1;33m.\u001b[0m\u001b[0mdraw\u001b[0m\u001b[1;33m(\u001b[0m\u001b[1;33m)\u001b[0m\u001b[1;33m\u001b[0m\u001b[1;33m\u001b[0m\u001b[0m\n",
      "\u001b[1;32mC:\\ProgramData\\Anaconda3\\lib\\site-packages\\qiskit\\result\\result.py\u001b[0m in \u001b[0;36mget_counts\u001b[1;34m(self, experiment)\u001b[0m\n\u001b[0;32m    282\u001b[0m                 \u001b[0mdict_list\u001b[0m\u001b[1;33m.\u001b[0m\u001b[0mappend\u001b[0m\u001b[1;33m(\u001b[0m\u001b[0mstatevector\u001b[0m\u001b[1;33m.\u001b[0m\u001b[0mStatevector\u001b[0m\u001b[1;33m(\u001b[0m\u001b[0mvec\u001b[0m\u001b[1;33m)\u001b[0m\u001b[1;33m.\u001b[0m\u001b[0mprobabilities_dict\u001b[0m\u001b[1;33m(\u001b[0m\u001b[0mdecimals\u001b[0m\u001b[1;33m=\u001b[0m\u001b[1;36m15\u001b[0m\u001b[1;33m)\u001b[0m\u001b[1;33m)\u001b[0m\u001b[1;33m\u001b[0m\u001b[1;33m\u001b[0m\u001b[0m\n\u001b[0;32m    283\u001b[0m             \u001b[1;32melse\u001b[0m\u001b[1;33m:\u001b[0m\u001b[1;33m\u001b[0m\u001b[1;33m\u001b[0m\u001b[0m\n\u001b[1;32m--> 284\u001b[1;33m                 \u001b[1;32mraise\u001b[0m \u001b[0mQiskitError\u001b[0m\u001b[1;33m(\u001b[0m\u001b[1;34mf'No counts for experiment \"{repr(key)}\"'\u001b[0m\u001b[1;33m)\u001b[0m\u001b[1;33m\u001b[0m\u001b[1;33m\u001b[0m\u001b[0m\n\u001b[0m\u001b[0;32m    285\u001b[0m \u001b[1;33m\u001b[0m\u001b[0m\n\u001b[0;32m    286\u001b[0m         \u001b[1;31m# Return first item of dict_list if size is 1\u001b[0m\u001b[1;33m\u001b[0m\u001b[1;33m\u001b[0m\u001b[0m\n",
      "\u001b[1;31mQiskitError\u001b[0m: 'No counts for experiment \"0\"'"
     ]
    }
   ],
   "source": [
    "input_bits = [1,1]\n",
    "qc = QuantumCircuit(2,2)\n",
    "#some code here\n",
    "\n",
    "#simulation\n",
    "backend = Aer.get_backend(\"aer_simulator\")\n",
    "result = backend.run(qc, shots=1000).result()\n",
    "counts = result.get_counts()\n",
    "print(counts)\n",
    "qc.draw()"
   ]
  }
 ],
 "metadata": {
  "celltoolbar": "Slideshow",
  "kernelspec": {
   "display_name": "Python 3 (ipykernel)",
   "language": "python",
   "name": "python3"
  },
  "language_info": {
   "codemirror_mode": {
    "name": "ipython",
    "version": 3
   },
   "file_extension": ".py",
   "mimetype": "text/x-python",
   "name": "python",
   "nbconvert_exporter": "python",
   "pygments_lexer": "ipython3",
   "version": "3.9.7"
  }
 },
 "nbformat": 4,
 "nbformat_minor": 5
}
