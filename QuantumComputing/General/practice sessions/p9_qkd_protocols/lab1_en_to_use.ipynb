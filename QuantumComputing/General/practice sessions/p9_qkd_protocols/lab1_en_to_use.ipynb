{
 "cells": [
  {
   "cell_type": "code",
   "execution_count": null,
   "id": "3774284a",
   "metadata": {},
   "outputs": [],
   "source": [
    "%%html\n",
    "<style>\n",
    "    .rise-enabled .cm-s-ipython {font-size: 25px;}\n",
    "    .rise-enabled .output_result pre {    font-size: 25px;}\n",
    "</style>"
   ]
  },
  {
   "cell_type": "code",
   "execution_count": null,
   "id": "initial_id",
   "metadata": {
    "ExecuteTime": {
     "end_time": "2024-10-28T10:11:27.063461Z",
     "start_time": "2024-10-28T10:11:24.147761Z"
    },
    "collapsed": true,
    "jupyter": {
     "outputs_hidden": true
    },
    "slideshow": {
     "slide_type": "skip"
    }
   },
   "outputs": [],
   "source": [
    "\n",
    "import qiskit \n",
    "import numpy \n",
    "from qiskit import QuantumCircuit, QuantumRegister, ClassicalRegister\n",
    "\n",
    "\n",
    "def test_rotational_circuits_A(qr,measureA1,measureA2,measureA3):\n",
    " \n",
    "\n",
    "    expected_measureA1_data = [('h')]\n",
    "    expected_measureA2_data = [('s'), ('h'), ('t'), ('h')]\n",
    "    expected_measureA3_data = []\n",
    "    \n",
    "    \n",
    "    for (op, gate) in zip(expected_measureA1_data, measureA1.data):\n",
    "        if gate.name != op: \n",
    "            print(f\"Expected gate {op} but got {gate} in A1\")\n",
    "            return False\n",
    "    \n",
    "    for (op, gate) in zip(expected_measureA2_data, measureA2.data):\n",
    "        if gate.name != op: \n",
    "            print(f\"Expected gate {op} but got {gate} in A2\")\n",
    "            return False\n",
    "    \n",
    "    for (op, gate) in zip(expected_measureA3_data, measureA3.data):\n",
    "        if gate.name != op: \n",
    "            print(f\"Expected gate {op} but got {gate} in A3\")\n",
    "            return False\n",
    "\n",
    "\n",
    "    print(\"Congratulations! Your rotational circuits pass the test.\")\n",
    "\n",
    "\n",
    "def test_rotational_circuits_B(qr, measureB1, measureB2, measureB3):\n",
    "\n",
    "    \n",
    "    expected_measureB1_data = [('s'), ('h'), ('t'), ('h')]\n",
    "    expected_measureB2_data = []\n",
    "    expected_measureB3_data = [('s'), ('h'), ('tdg'), ('h')]\n",
    "\n",
    "    # Check each gate in the circuits against the expected gates\n",
    "    for (op, gate) in zip(expected_measureB1_data, measureB1.data):\n",
    "        if gate.name != op: \n",
    "            print(f\"Expected gate {op} but got {gate} in B1\")\n",
    "            return False\n",
    "    \n",
    "    for (op, gate) in zip(expected_measureB2_data, measureB2.data):\n",
    "        if gate.name != op: \n",
    "            print(f\"Expected gate {op} but got {gate} in B2\")\n",
    "            return False\n",
    "    \n",
    "    for (op, gate) in zip(expected_measureB3_data, measureB3.data):\n",
    "        if gate.name != op: \n",
    "            print(f\"Expected gate {op} but got {gate} in B3\")\n",
    "            return False\n",
    "\n",
    "\n",
    "    print(\"Congratulations! Your rotational circuits pass the test.\")\n",
    "\n",
    "\n"
   ]
  },
  {
   "cell_type": "markdown",
   "id": "313b1d9b173d475c",
   "metadata": {
    "slideshow": {
     "slide_type": "slide"
    }
   },
   "source": [
    "## BB84 QKD protocol\n",
    "\n",
    "### Quick description\n",
    "+ Single photon laser \n",
    "+ Measurment bases choosen randomly \n",
    "+ Alice encodes quantum information into polarization and sends them to Bob \n",
    "+ Bob measures the photons in a random basis \n",
    "+ At the end of communication they share the measurment bases used and create the key using measurments where it was the same \n",
    "\n",
    "\n"
   ]
  },
  {
   "cell_type": "markdown",
   "id": "e72c677914ead249",
   "metadata": {
    "slideshow": {
     "slide_type": "subslide"
    }
   },
   "source": [
    "![](kepek/BB84-Page-1.jpg)"
   ]
  },
  {
   "cell_type": "markdown",
   "id": "59c8e33b5fb05e0d",
   "metadata": {
    "slideshow": {
     "slide_type": "subslide"
    }
   },
   "source": [
    "## QKD Protocol architecture:\n",
    "1. **Alice side** \n",
    "2. Bob side\n",
    "3. Postprocessing"
   ]
  },
  {
   "cell_type": "code",
   "execution_count": null,
   "id": "8ac0a919b5be2f79",
   "metadata": {
    "ExecuteTime": {
     "end_time": "2024-10-28T10:11:27.289869Z",
     "start_time": "2024-10-28T10:11:27.065110Z"
    },
    "slideshow": {
     "slide_type": "subslide"
    }
   },
   "outputs": [],
   "source": [
    "# Registers \n",
    "qr_alice = QuantumRegister(2, 'qr_alice')\n",
    "qr_bob = QuantumRegister(1, 'qr_bob')\n",
    "cr_alice = ClassicalRegister(2, 'cr_alice')\n",
    "cr_bob = ClassicalRegister(2, 'cr_bob')\n",
    "\n",
    "\n",
    "# Random bit generation \n",
    "rand_qc = QuantumCircuit(qr_alice, qr_bob,cr_alice, cr_bob)\n",
    "\n",
    "# Random base generation \n",
    "\n",
    "rand_qc.barrier(label=\"Random bit generation\")\n",
    "\n",
    "rand_qc.draw()"
   ]
  },
  {
   "cell_type": "code",
   "execution_count": null,
   "id": "ba0a03a3908d53f8",
   "metadata": {
    "ExecuteTime": {
     "end_time": "2024-10-28T10:11:27.298749Z",
     "start_time": "2024-10-28T10:11:27.291495Z"
    },
    "slideshow": {
     "slide_type": "subslide"
    }
   },
   "outputs": [],
   "source": [
    "# Sending the random bit using the selected base\n",
    "enc_qc = QuantumCircuit(qr_alice,qr_bob, cr_alice, cr_bob)\n",
    "\n",
    "\n",
    "enc_qc.barrier(label=\"Encode using the random bits\")\n",
    "\n",
    "enc_qc.draw()\n"
   ]
  },
  {
   "cell_type": "markdown",
   "id": "9cfa4e604fe15deb",
   "metadata": {
    "slideshow": {
     "slide_type": "subslide"
    }
   },
   "source": [
    "## QKD Protocol architecture:\n",
    "1. Alice side\n",
    "2. **Bob side**\n",
    "3. Postprocessing "
   ]
  },
  {
   "cell_type": "code",
   "execution_count": null,
   "id": "b83057219036094b",
   "metadata": {
    "ExecuteTime": {
     "end_time": "2024-10-28T10:11:27.428961Z",
     "start_time": "2024-10-28T10:11:27.300595Z"
    },
    "slideshow": {
     "slide_type": "subslide"
    }
   },
   "outputs": [],
   "source": [
    "bob_qc = QuantumCircuit(qr_alice,qr_bob, cr_alice, cr_bob)\n",
    "bob_qc= bob_qc.compose(enc_qc)\n",
    "\n",
    "# Random bit generation\n",
    "\n",
    "\n",
    "# Measure using random base\n",
    "\n",
    "\n",
    "bob_qc.draw()"
   ]
  },
  {
   "cell_type": "markdown",
   "id": "52676dd48d7309b9",
   "metadata": {
    "slideshow": {
     "slide_type": "subslide"
    }
   },
   "source": [
    "## QKD Protocol architecture:\n",
    "1. Alice side\n",
    "2. Bob side\n",
    "3. **Postprocessing**"
   ]
  },
  {
   "cell_type": "code",
   "execution_count": null,
   "id": "2d81e2b1ebed358",
   "metadata": {
    "ExecuteTime": {
     "end_time": "2024-10-28T10:11:27.950052Z",
     "start_time": "2024-10-28T10:11:27.430550Z"
    },
    "slideshow": {
     "slide_type": "subslide"
    }
   },
   "outputs": [],
   "source": [
    "from qiskit.providers.basic_provider import BasicSimulator\n",
    "backend = BasicSimulator()\n",
    "\n",
    "# If you do not specify the number of shots, the default is 1024\n",
    "result =  \n",
    "\n",
    "# Extract the counts of 0 and 1 measurements\n",
    "counts = result.get_counts()               \n",
    "memory_data = result.get_memory()\n",
    "memory_data"
   ]
  },
  {
   "cell_type": "markdown",
   "id": "3e11d1b0193d4cc1",
   "metadata": {
    "slideshow": {
     "slide_type": "subslide"
    }
   },
   "source": [
    "![](kepek/bb84basis.jpg)"
   ]
  },
  {
   "cell_type": "code",
   "execution_count": null,
   "id": "a903857276af9e5d",
   "metadata": {
    "ExecuteTime": {
     "end_time": "2024-10-28T10:11:30.466531Z",
     "start_time": "2024-10-28T10:11:30.461048Z"
    },
    "slideshow": {
     "slide_type": "subslide"
    }
   },
   "outputs": [],
   "source": [
    "cleaned_alice = []\n",
    "cleaned_bob = []\n",
    "#BASE|RESULT\n",
    "for data in memory_data:\n",
    "    bob, alice = data.split()\n",
    "    if alice[1] == bob[1]:\n",
    "        cleaned_alice.append(f\"{alice[0]}\")\n",
    "        cleaned_bob.append(f\"{alice[0]}\")\n",
    "\n",
    "print(cleaned_bob==cleaned_alice)\n",
    "    "
   ]
  },
  {
   "cell_type": "code",
   "execution_count": null,
   "id": "79f92c53e0738907",
   "metadata": {
    "ExecuteTime": {
     "end_time": "2024-10-28T10:12:04.594912Z",
     "start_time": "2024-10-28T10:12:04.588915Z"
    },
    "slideshow": {
     "slide_type": "subslide"
    }
   },
   "outputs": [],
   "source": [
    "def xor_string(s, key):\n",
    "    result = \"\"\n",
    "    for i, c in enumerate(s):\n",
    "        result += chr(ord(c) ^ ord(key[i % len(key)]))\n",
    "    return result\n",
    "\n",
    "# Example usage:\n",
    "s = \"Hello, World!\"\n",
    "alice_msg = xor_string(s, cleaned_alice)\n",
    "alice_msg"
   ]
  },
  {
   "cell_type": "code",
   "execution_count": null,
   "id": "b83e0ca1152afbba",
   "metadata": {
    "ExecuteTime": {
     "end_time": "2024-10-28T10:12:06.263667Z",
     "start_time": "2024-10-28T10:12:06.259967Z"
    },
    "slideshow": {
     "slide_type": "subslide"
    }
   },
   "outputs": [],
   "source": [
    "bob_rcv  = xor_string(alice_msg, cleaned_bob)\n",
    "print(bob_rcv)"
   ]
  },
  {
   "cell_type": "markdown",
   "id": "ea3bf7b436ce8b99",
   "metadata": {
    "slideshow": {
     "slide_type": "slide"
    }
   },
   "source": [
    "# E91\n",
    "### Short description\n",
    "+ Entangled pairs from third party \n",
    "+ Both Alice and Bob as receivers\n",
    "+ Random bases for both sides that dont match \n",
    "+ At the end of communication they correlate the used bases and create the keys using matching base"
   ]
  },
  {
   "cell_type": "markdown",
   "id": "f859af4ccadc5377",
   "metadata": {
    "slideshow": {
     "slide_type": "subslide"
    }
   },
   "source": [
    "## QKD Protocol architecture\n",
    "1. **Measurment bases**\n",
    "2. Alice and Bob side\n",
    "3. Postprocessing"
   ]
  },
  {
   "cell_type": "markdown",
   "id": "92d99e0ddcbdab92",
   "metadata": {
    "slideshow": {
     "slide_type": "subslide"
    }
   },
   "source": [
    "## Measurment bases\n",
    "![](https://raw.githubusercontent.com/qiskit-community/qiskit-community-tutorials/c2b8fa5928e7054249fa36d4a23e7ebd69e787ed/awards/teach_me_qiskit_2018/e91_qkd/images/vectors.png)"
   ]
  },
  {
   "cell_type": "markdown",
   "id": "73ba3306",
   "metadata": {},
   "source": [
    "![](https://raw.githubusercontent.com/CQCL/qiskit-tutorial/a2c8410ba62450d5f09d937bfbcda1497d9e5461/community/awards/teach_me_qiskit_2018/e91_qkd/images/bases.png)"
   ]
  },
  {
   "cell_type": "code",
   "execution_count": null,
   "id": "8c613beadd7fc3bc",
   "metadata": {
    "ExecuteTime": {
     "end_time": "2024-10-28T10:20:30.933669Z",
     "start_time": "2024-10-28T10:20:30.927247Z"
    },
    "slideshow": {
     "slide_type": "subslide"
    }
   },
   "outputs": [],
   "source": [
    "qr = QuantumRegister(1)\n",
    "\n",
    "\n",
    "# Alice\n",
    "measureA1 = QuantumCircuit(qr,  name='measureA1')\n",
    "\n",
    "measureA2 = QuantumCircuit(qr,  name='measureA2')\n",
    "\n",
    "\n",
    "measureA3 = QuantumCircuit(qr,  name='measureA3')\n",
    "\n",
    "measureA2.draw()\n",
    "\n",
    "\n",
    "test_rotational_circuits_A(qr,measureA1,measureA2,measureA3)"
   ]
  },
  {
   "cell_type": "code",
   "execution_count": null,
   "id": "68bf09d0c4996c02",
   "metadata": {
    "ExecuteTime": {
     "end_time": "2024-10-28T10:20:46.149990Z",
     "start_time": "2024-10-28T10:20:46.143524Z"
    },
    "slideshow": {
     "slide_type": "subslide"
    }
   },
   "outputs": [],
   "source": [
    "#Bob \n",
    "measureB1 = QuantumCircuit(qr,  name='measureB1')\n",
    "\n",
    "\n",
    "measureB2 = QuantumCircuit(qr,  name='measureB2')\n",
    "\n",
    "measureB3 = QuantumCircuit(qr,  name='measureB3')\n",
    "\n",
    "\n",
    "\n",
    "measureB1.draw()\n",
    "test_rotational_circuits_B(qr, measureB1, measureB2, measureB3)"
   ]
  },
  {
   "cell_type": "markdown",
   "id": "c01e9257fbe97e0b",
   "metadata": {
    "slideshow": {
     "slide_type": "subslide"
    }
   },
   "source": [
    "## QKD Protocol architecture\n",
    "1. Measurment bases\n",
    "2. **Alice and Bob side**\n",
    "3. Postprocessing"
   ]
  },
  {
   "cell_type": "code",
   "execution_count": null,
   "id": "69b28348f3ac4c4c",
   "metadata": {
    "ExecuteTime": {
     "end_time": "2024-10-28T10:23:41.506162Z",
     "start_time": "2024-10-28T10:23:41.486602Z"
    },
    "slideshow": {
     "slide_type": "subslide"
    }
   },
   "outputs": [],
   "source": [
    "# Registers  \n",
    "charlie_qr = QuantumRegister(3, 'charlie_qr')\n",
    "alice_qr = QuantumRegister(3, 'alice_qr')\n",
    "bob_qr = QuantumRegister(3, 'bob_qr')\n",
    "\n",
    "alice_rng = ClassicalRegister(2, 'alice_rng')\n",
    "bob_rng = ClassicalRegister(2, 'bob_rng')\n",
    "alice_cr = ClassicalRegister(1, 'alice_cr')\n",
    "bob_cr = ClassicalRegister(1, 'bob_cr')\n",
    "\n",
    "\n",
    "qc = QuantumCircuit(charlie_qr, alice_qr, bob_qr, alice_cr, alice_rng,bob_cr,bob_rng)\n",
    "\n",
    "# Charlie\n",
    "\n",
    "\n",
    "# Share entanglement\n",
    "\n",
    "\n",
    "qc.barrier(label=\"Charlie\")\n",
    "\n",
    "# RNG for Alice and Bob  \n",
    "\n",
    "\n",
    "qc.barrier(label=\"RNG\")\n",
    "\n",
    "# Alice measurment bases\n",
    "\n",
    "\n",
    "# Bob measurment bases\n",
    "\n",
    "\n",
    "qc.barrier(label=\"Rotations\")\n",
    "\n",
    "\n",
    "\n",
    "qc.draw()\n"
   ]
  },
  {
   "cell_type": "markdown",
   "id": "71298603274b2350",
   "metadata": {
    "slideshow": {
     "slide_type": "subslide"
    }
   },
   "source": [
    "## QKD Protocol architecture\n",
    "1. Measurment bases\n",
    "2. Alice and Bob side\n",
    "3. **Postprocessing**"
   ]
  },
  {
   "cell_type": "code",
   "execution_count": null,
   "id": "fea2d14248502398",
   "metadata": {
    "ExecuteTime": {
     "end_time": "2024-10-28T10:36:12.859201Z",
     "start_time": "2024-10-28T10:36:09.007941Z"
    },
    "slideshow": {
     "slide_type": "subslide"
    }
   },
   "outputs": [],
   "source": [
    "from qiskit.providers.basic_provider import BasicSimulator\n",
    "backend = BasicSimulator()\n",
    "\n",
    "qc = \n",
    "\n",
    "# If you do not specify the number of shots, the default is 1024\n",
    "result = \n",
    "\n",
    "# Extract the counts of 0 and 1 measurements\n",
    "# Alice cr Alice rng Bob cr Bob rng jobbrol balra\n",
    "counts = result.get_counts()               \n",
    "memory_data = result.get_memory()\n",
    "\n",
    "\n",
    "counts\n"
   ]
  },
  {
   "cell_type": "markdown",
   "id": "a746cfbc31def4de",
   "metadata": {
    "slideshow": {
     "slide_type": "subslide"
    }
   },
   "source": [
    "![](kepek/E91basis.jpg)"
   ]
  },
  {
   "cell_type": "code",
   "execution_count": null,
   "id": "74aede3f0789282",
   "metadata": {
    "ExecuteTime": {
     "end_time": "2024-10-28T10:36:12.867685Z",
     "start_time": "2024-10-28T10:36:12.861062Z"
    },
    "slideshow": {
     "slide_type": "subslide"
    }
   },
   "outputs": [],
   "source": [
    "cleaned_alice = []\n",
    "cleaned_bob = []\n",
    "#BASE|RESULT\n",
    "for data in memory_data:\n",
    "    b_rng,bob, a_rng, alice = data.split()\n",
    "    if (b_rng == '01' and a_rng == '11') or (b_rng == '00' and a_rng == '01'):\n",
    "\n",
    "        cleaned_alice.append(f\"{alice}\")\n",
    "        cleaned_bob.append(f\"{alice}\")\n",
    "\n",
    "        if alice != bob:\n",
    "            print(f\"{a_rng}|{b_rng}\")\n",
    "            print(f\"{alice}|{bob}\")\n",
    "            break\n"
   ]
  },
  {
   "cell_type": "code",
   "execution_count": null,
   "id": "e59a78291f4ddd5e",
   "metadata": {
    "ExecuteTime": {
     "end_time": "2024-10-28T10:36:13.027933Z",
     "start_time": "2024-10-28T10:36:12.869233Z"
    },
    "slideshow": {
     "slide_type": "subslide"
    }
   },
   "outputs": [],
   "source": [
    "def xor_string(s, key):\n",
    "    result = \"\"\n",
    "    for i, c in enumerate(s):\n",
    "        result += chr(ord(c) ^ ord(key[i % len(key)]))\n",
    "    return result\n",
    "\n",
    "# Example usage:\n",
    "s = \"Hello, World!\"\n",
    "alice_msg = xor_string(s, cleaned_alice)\n",
    "alice_msg"
   ]
  },
  {
   "cell_type": "code",
   "execution_count": null,
   "id": "f4844c496fa5bcb",
   "metadata": {
    "ExecuteTime": {
     "end_time": "2024-10-28T10:36:13.167011Z",
     "start_time": "2024-10-28T10:36:13.030Z"
    },
    "slideshow": {
     "slide_type": "subslide"
    }
   },
   "outputs": [],
   "source": [
    "bob_rcv  = xor_string(alice_msg, cleaned_bob)\n",
    "print(bob_rcv)"
   ]
  },
  {
   "cell_type": "markdown",
   "id": "57e8fa79ef3906a2",
   "metadata": {},
   "source": [
    "## Postprocessing 2: CHSH inequality\n",
    "\n",
    "$$S = |E(a_1,b_1) - E(a_1,b_3) + E(a_3,b_1) + E(a_3,b_3)|$$\n",
    "\n",
    "\n",
    "$$E(a_i,b_j) = \\frac{N_{++}(a_i,b_j) + N_{--}(a_i,b_j) - N_{+-}(a_i,b_j) - N_{-+}(a_i,b_j)}{N_{++}(a_i,b_j) + N_{--}(a_i,b_j) + N_{+-}(a_i,b_j) + N_{-+}(a_i,b_j)}$$\n",
    "\n",
    "Where: \n",
    "$N_{**}$: Measuremed (+=0 és -=1) on the receiver size.  "
   ]
  },
  {
   "cell_type": "code",
   "execution_count": null,
   "id": "e443e3d98fabd8e8",
   "metadata": {
    "ExecuteTime": {
     "end_time": "2024-10-28T10:36:15.117280Z",
     "start_time": "2024-10-28T10:36:15.110372Z"
    },
    "slideshow": {
     "slide_type": "subslide"
    }
   },
   "outputs": [],
   "source": [
    "#CHSH ineq \n",
    "\n",
    "e_data:dict = {}\n",
    "\n",
    "for key in counts:\n",
    "    b_rng,bob, a_rng, alice = key.split()\n",
    "        \n",
    "    alice = int(alice)\n",
    "    bob = int(bob)\n",
    "    \n",
    "    Npp,Npm,Nmp,Nmm =e_data.get(f\"{a_rng}|{b_rng}\",[0,0,0,0])\n",
    "\n",
    "    if alice == 0 and bob == 0:\n",
    "        Npp += counts[key]\n",
    "    elif alice == 1 and bob == 1:\n",
    "        Nmm += counts[key]\n",
    "    elif alice == 0 and bob == 1:\n",
    "        Npm += counts[key]\n",
    "    elif alice == 1 and bob == 0:\n",
    "        Nmp += counts[key]\n",
    "    \n",
    "    \n",
    "    e_data[f\"{a_rng}|{b_rng}\"] = [Npp,Npm,Nmp,Nmm]\n",
    "        \n",
    "def calc_E(a,b):\n",
    "    Npp,Npm,Nmp,Nmm = e_data.get(f\"{a}|{b}\",[0,0,0,0])\n",
    "    \n",
    "    upper = Npp - Npm - Nmp + Nmm\n",
    "    lower = Npp + Nmm + Npm + Nmp\n",
    "    return upper/lower\n",
    "    \n",
    "    \n",
    "    \n",
    "# Calculate S\n",
    "S = calc_E('00','00')-calc_E('00','11')+calc_E('11','00')+calc_E('11','11')\n",
    "S"
   ]
  },
  {
   "cell_type": "code",
   "execution_count": null,
   "id": "658ea08c",
   "metadata": {},
   "outputs": [],
   "source": []
  }
 ],
 "metadata": {
  "celltoolbar": "Slideshow",
  "kernelspec": {
   "display_name": "Python 3 (ipykernel)",
   "language": "python",
   "name": "python3"
  },
  "language_info": {
   "codemirror_mode": {
    "name": "ipython",
    "version": 3
   },
   "file_extension": ".py",
   "mimetype": "text/x-python",
   "name": "python",
   "nbconvert_exporter": "python",
   "pygments_lexer": "ipython3",
   "version": "3.9.19"
  }
 },
 "nbformat": 4,
 "nbformat_minor": 5
}
