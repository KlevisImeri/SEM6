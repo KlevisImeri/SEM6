{
 "cells": [
  {
   "cell_type": "code",
   "execution_count": 1,
   "id": "28309f92-0c03-4751-a612-e2a95a53bd20",
   "metadata": {
    "slideshow": {
     "slide_type": ""
    },
    "tags": []
   },
   "outputs": [
    {
     "data": {
      "text/html": [
       "<style>\n",
       ".rise-enabled .cm-editor {\n",
       "    font-size: 12px;\n",
       "}\n",
       " \n",
       ".rise-enabled .jp-OutputArea pre {\n",
       "    font-size: 12px;\n",
       "}\n",
       "\n",
       "</style>\n"
      ],
      "text/plain": [
       "<IPython.core.display.HTML object>"
      ]
     },
     "metadata": {},
     "output_type": "display_data"
    }
   ],
   "source": [
    "%%html\n",
    "<style>\n",
    ".rise-enabled .cm-editor {\n",
    "    font-size: 12px;\n",
    "}\n",
    " \n",
    ".rise-enabled .jp-OutputArea pre {\n",
    "    font-size: 12px;\n",
    "}\n",
    "\n",
    "</style>"
   ]
  },
  {
   "cell_type": "markdown",
   "id": "f187f943-6fbf-4a17-82e1-0fea18bc5f9a",
   "metadata": {
    "slideshow": {
     "slide_type": "slide"
    },
    "tags": []
   },
   "source": [
    "# Quantum computing and its applications (BMEVIHIAD00)\n",
    "## Programming Quantum Computers 3. - Implementing algorithms in a programming language\n",
    "Balázs Solymos (solymosb@hit.bme.hu)\n",
    "\n",
    "2025 Spring"
   ]
  },
  {
   "cell_type": "markdown",
   "id": "55f30fb6-2511-4963-8214-fe469f6c7822",
   "metadata": {
    "slideshow": {
     "slide_type": "slide"
    },
    "tags": []
   },
   "source": [
    "## Content\n",
    "\n",
    "We will solve problems using `qiskit`. The calculations can be done on paper, but if anyone has a computer, feel free to follow the steps."
   ]
  },
  {
   "cell_type": "markdown",
   "id": "8fbab2d7-6af9-4a81-a8f8-9e4b68ea2a74",
   "metadata": {
    "slideshow": {
     "slide_type": "slide"
    },
    "tags": []
   },
   "source": [
    "## Qiskit - Reminder"
   ]
  },
  {
   "cell_type": "code",
   "execution_count": 2,
   "id": "4a3e014e-c65b-4f47-8f2a-a0aa623dda25",
   "metadata": {
    "slideshow": {
     "slide_type": ""
    },
    "tags": []
   },
   "outputs": [
    {
     "name": "stdout",
     "output_type": "stream",
     "text": [
      "{'11': 486, '00': 514}\n"
     ]
    }
   ],
   "source": [
    "from qiskit import QuantumCircuit, QuantumRegister\n",
    "from qiskit_aer import AerSimulator\n",
    "from qiskit.visualization import array_to_latex\n",
    "\n",
    "# Creating a circuit\n",
    "qc = QuantumCircuit(2) \n",
    "# Placing gates\n",
    "qc.h(0)\n",
    "qc.cx(0,1)  \n",
    "# Measuring\n",
    "qc.measure_all()\n",
    "\n",
    "# Choosing a simulator and running the experiments\n",
    "backend = AerSimulator()\n",
    "result = backend.run(qc, shots=1000).result() # Blocking call!\n",
    "# Using the results\n",
    "counts = result.get_counts()\n",
    "print(counts)"
   ]
  },
  {
   "cell_type": "markdown",
   "id": "9043f71d-af16-456a-8d68-a9293fedcb0e",
   "metadata": {
    "slideshow": {
     "slide_type": "slide"
    },
    "tags": []
   },
   "source": [
    "## Starting exercise\n",
    "\n",
    "Our boss has heard that in a binary symmetric channel (BSC), the classical bits encoded by gate $H$ are insensitive to bitflips in the channel. Design an encoding and decoding box that can transmit classical data on a quantum channel without error.\n",
    "\n",
    "<img src=\"bsc.png\" alt=\"The BSC\" style=\"margin:auto;width: 60%\"/>\n",
    "\n",
    "The matrix of the $H$ gate:\n",
    "\n",
    "$$ H = \\frac{1}{\\sqrt{2}}\\begin{bmatrix}\n",
    "1 & 1 \\\\\n",
    "1 & -1 \n",
    "\\end{bmatrix}  $$"
   ]
  },
  {
   "cell_type": "markdown",
   "id": "e0af8106-dc13-45dd-a9e2-4ddefe5faf11",
   "metadata": {
    "slideshow": {
     "slide_type": "subslide"
    },
    "tags": []
   },
   "source": [
    "**Solution**:\n",
    "\n",
    "The $H$ gate can be used to solve the problem. The bit `0` is assigned |0> and `1` is assigned |1>. Apart from the global phase, encoding with $H$ protects against bitflips.\n",
    "\n",
    "Let's look at the solution in `qiskit`:"
   ]
  },
  {
   "cell_type": "code",
   "execution_count": 3,
   "id": "a86c282e-c33e-4aa0-b42f-7290e2a3e71f",
   "metadata": {
    "scrolled": true,
    "slideshow": {
     "slide_type": ""
    },
    "tags": []
   },
   "outputs": [
    {
     "data": {
      "image/png": "[encoded data removed]",
      "text/plain": [
       "<Figure size 374.326x144.48 with 1 Axes>"
      ]
     },
     "execution_count": 3,
     "metadata": {},
     "output_type": "execute_result"
    }
   ],
   "source": [
    "qc = QuantumCircuit(1,1)\n",
    "\n",
    "# Note the initialization of the circuit\n",
    "qc.initialize(0)\n",
    "# Encoding\n",
    "qc.h(0)\n",
    "\n",
    "# Noise\n",
    "qc.x(0)\n",
    "\n",
    "# Decoding \n",
    "qc.h(0)\n",
    "qc.measure(0,0)\n",
    "qc.draw(\"mpl\")\n"
   ]
  },
  {
   "cell_type": "code",
   "execution_count": 4,
   "id": "6d8dcd65-77c9-4432-acce-12c9f04b0e0a",
   "metadata": {
    "slideshow": {
     "slide_type": ""
    },
    "tags": []
   },
   "outputs": [
    {
     "name": "stdout",
     "output_type": "stream",
     "text": [
      "{'0': 1000}\n"
     ]
    }
   ],
   "source": [
    "backend = AerSimulator()\n",
    "result = backend.run(qc, shots=1000).result()\n",
    "counts = result.get_counts()\n",
    "print(counts)"
   ]
  },
  {
   "cell_type": "markdown",
   "id": "3e719c13-c8de-4f01-bf61-f6d7945e1d5c",
   "metadata": {
    "slideshow": {
     "slide_type": "subslide"
    },
    "tags": []
   },
   "source": [
    "The same problem can be modeled with `qiskit`'s noisemodels. (You can find more information about the classes [on this page](https://docs.quantum.ibm.com/guides/build-noise-models)):"
   ]
  },
  {
   "cell_type": "code",
   "execution_count": 5,
   "id": "7d65b8e6-ad34-44ed-aeab-5d02b3229f95",
   "metadata": {
    "slideshow": {
     "slide_type": ""
    },
    "tags": []
   },
   "outputs": [],
   "source": [
    "from qiskit.transpiler.preset_passmanagers import generate_preset_pass_manager\n",
    "from qiskit_aer.noise import NoiseModel, pauli_error\n",
    "from qiskit.circuit.library import HGate\n",
    "\n",
    "p_error = 0.05\n",
    "\n",
    "h_gate = HGate()  # regular gate\n",
    "noisy_h_gate = HGate(label=\"Noisy H\")  # first labelled gate \n",
    "\n",
    "bit_flip = pauli_error([('X', p_error), ('I', 1 - p_error)])\n",
    "\n",
    "noise_model = NoiseModel()\n",
    "noise_model.add_all_qubit_quantum_error(bit_flip, noisy_h_gate.label)\n",
    "noise_model.add_basis_gates(['h'])"
   ]
  },
  {
   "cell_type": "code",
   "execution_count": 6,
   "id": "2be638f5-02f7-4d6e-bdb8-51ae473bc5f5",
   "metadata": {
    "slideshow": {
     "slide_type": "subslide"
    },
    "tags": []
   },
   "outputs": [
    {
     "data": {
      "image/png": "[encoded data removed]",
      "text/plain": [
       "<Figure size 314.126x144.48 with 1 Axes>"
      ]
     },
     "execution_count": 6,
     "metadata": {},
     "output_type": "execute_result"
    }
   ],
   "source": [
    "qc = QuantumCircuit(1, 1)\n",
    "\n",
    "qc.append(noisy_h_gate, [0])\n",
    "qc.append(h_gate, [0])\n",
    "\n",
    "qc.measure(0,0)\n",
    "qc.draw(\"mpl\")"
   ]
  },
  {
   "cell_type": "code",
   "execution_count": 7,
   "id": "6bbf3df5-14d3-43fc-bcc0-9fbad5830c7b",
   "metadata": {
    "slideshow": {
     "slide_type": ""
    },
    "tags": []
   },
   "outputs": [
    {
     "name": "stdout",
     "output_type": "stream",
     "text": [
      "{'0': 988, '1': 36}\n"
     ]
    }
   ],
   "source": [
    "sim = AerSimulator(noise_model=noise_model)\n",
    "\n",
    "results = sim.run(qc, shot=1024).result().get_counts()\n",
    "print(results)"
   ]
  },
  {
   "cell_type": "markdown",
   "id": "4c6d1abc-2f93-47c0-a3d9-4191b4be7131",
   "metadata": {
    "slideshow": {
     "slide_type": "slide"
    },
    "tags": []
   },
   "source": [
    "## State preparation\n",
    "\n",
    "### Sign flip on $|0\\rangle$\n",
    "\n",
    "We would like to transform an arbitrary quantum state $\\alpha|0\\rangle + \\beta|1\\rangle$ to the following form a $-\\alpha|0\\rangle + \\beta|1\\rangle$. How can we achieve this using only the Pauli gates?"
   ]
  },
  {
   "cell_type": "markdown",
   "id": "2728fed4-3c63-4fcd-be67-d433754535f0",
   "metadata": {
    "slideshow": {
     "slide_type": "subslide"
    },
    "tags": []
   },
   "source": [
    "**Solution**\n",
    "\n",
    "The necessary steps are the following:\n",
    "1. First we use the $X$ gate, this takes the state to $\\beta|0\\rangle + \\alpha|1\\rangle$.\n",
    "2. After this, we apply the $Z$ gate to add a minus 1 sign to the $\\alpha$ amplitude.\n",
    "3. The last step is to use the $X$ gate one more time to get the desired state: $-\\alpha|0\\rangle + \\beta|1\\rangle$.\n",
    "\n",
    "Implementing these steps in `qiskit`:"
   ]
  },
  {
   "cell_type": "code",
   "execution_count": 27,
   "id": "bc119a9c-6a7e-439e-b18b-adfbe9862845",
   "metadata": {
    "slideshow": {
     "slide_type": ""
    },
    "tags": []
   },
   "outputs": [
    {
     "name": "stdout",
     "output_type": "stream",
     "text": [
      "Statevector([-0.6+0.j,  0.8+0.j],\n",
      "            dims=(2,))\n"
     ]
    }
   ],
   "source": [
    "from qiskit_aer import Aer\n",
    "\n",
    "qc = QuantumCircuit(1) \n",
    "qc.initialize([0.6, 0.8], 0)\n",
    "qc.x(0) # 1. step\n",
    "qc.z(0) # 2. step\n",
    "qc.x(0) # 3. step\n",
    "sim = Aer.get_backend(\"statevector_simulator\")\n",
    "output_state = sim.run(qc).result().get_statevector(qc)\n",
    "print(output_state)"
   ]
  },
  {
   "cell_type": "markdown",
   "id": "2f6468f7-af62-477a-a5a2-51d8ef9d2fa9",
   "metadata": {
    "slideshow": {
     "slide_type": "subslide"
    },
    "tags": []
   },
   "source": [
    "### Global phase\n",
    "\n",
    "Starting from the $\\alpha|0\\rangle + \\beta|1\\rangle$ state, we would like to prepare the following output: $i\\alpha|0\\rangle + i\\beta|1\\rangle$. Only use the Pauli gates!"
   ]
  },
  {
   "cell_type": "markdown",
   "id": "818fa4c0-6c06-4790-9a7e-5aa5e76816fa",
   "metadata": {
    "slideshow": {
     "slide_type": "subslide"
    },
    "tags": []
   },
   "source": [
    "**Solution**\n",
    "\n",
    "The desired transformation multiplies both amplitudes by $i$, so the matrix corresponding to this is $iI$. An interesting property of the Pauli gates is that multiplying any two of them (two different ones) gives the third one mutiplied by $+i$ or $-i$. For example, $YZ = +iX$. We saw earlier that Pauli gates are self-adjoint, so $+iXX = iI$, which is exactly the transformation we are looking for.\n",
    "\n",
    "The operation to be performed is therefor $XYZ = iI$.\n",
    "\n",
    "In `qiskit` this is:"
   ]
  },
  {
   "cell_type": "code",
   "execution_count": 9,
   "id": "3b8e18bb-a873-4a16-bcb2-6f300d0050cc",
   "metadata": {
    "slideshow": {
     "slide_type": ""
    },
    "tags": []
   },
   "outputs": [
    {
     "name": "stdout",
     "output_type": "stream",
     "text": [
      "Statevector([0.+0.6j, 0.+0.8j],\n",
      "            dims=(2,))\n"
     ]
    }
   ],
   "source": [
    "qc = QuantumCircuit(1)\n",
    "qc.initialize([0.6, 0.8], 0)\n",
    "\n",
    "qc.z(0)\n",
    "qc.y(0)\n",
    "qc.x(0)\n",
    "\n",
    "sim = Aer.get_backend(\"statevector_simulator\")\n",
    "output_state = sim.run(qc).result().get_statevector(qc)\n",
    "print(output_state)"
   ]
  },
  {
   "cell_type": "markdown",
   "id": "1a2e06fc-dfed-46e2-9b83-a69ca546a8fa",
   "metadata": {
    "slideshow": {
     "slide_type": "subslide"
    },
    "tags": []
   },
   "source": [
    "Or we can use `qiskit`'s `UnitaryGate` class to specify a given unitary transformation:"
   ]
  },
  {
   "cell_type": "code",
   "execution_count": 10,
   "id": "aadb6b5e-6135-46c8-b278-22b9d9651fe3",
   "metadata": {
    "slideshow": {
     "slide_type": ""
    },
    "tags": []
   },
   "outputs": [
    {
     "data": {
      "image/png": "[encoded data removed]",
      "text/plain": [
       "<Figure size 253.926x84.28 with 1 Axes>"
      ]
     },
     "execution_count": 10,
     "metadata": {},
     "output_type": "execute_result"
    }
   ],
   "source": [
    "from qiskit.circuit.library import UnitaryGate\n",
    "\n",
    "qc = QuantumCircuit(1)\n",
    "qc.initialize([0.6, 0.8], 0)\n",
    "\n",
    "matrix = [[1j, 0],\n",
    "          [0, 1j]]\n",
    "\n",
    "transformation = UnitaryGate(matrix)\n",
    "\n",
    "qc.append(transformation, [0])\n",
    "qc.draw(\"mpl\")"
   ]
  },
  {
   "cell_type": "code",
   "execution_count": 11,
   "id": "a076c12d-31a1-4576-8d70-5a05865eec7c",
   "metadata": {
    "slideshow": {
     "slide_type": ""
    },
    "tags": []
   },
   "outputs": [
    {
     "name": "stdout",
     "output_type": "stream",
     "text": [
      "Statevector([0.+0.6j, 0.+0.8j],\n",
      "            dims=(2,))\n"
     ]
    }
   ],
   "source": [
    "sim = Aer.get_backend(\"statevector_simulator\")\n",
    "output_state = sim.run(qc).result().get_statevector(qc)\n",
    "print(output_state)"
   ]
  },
  {
   "cell_type": "markdown",
   "id": "ba0327e6-cf52-4d7d-9dba-8ae48efc200f",
   "metadata": {
    "slideshow": {
     "slide_type": "subslide"
    },
    "tags": []
   },
   "source": [
    "### Adding phase to a state\n",
    "\n",
    "Let us once again start from the $\\alpha|0\\rangle + \\beta|1\\rangle$ state. Now, we would like to prepare the $\\alpha|0\\rangle + \\beta e^{3i\\pi/4}|1\\rangle$ state using the following gates:\n",
    "\n",
    "$$\n",
    "S = \\begin{bmatrix}\n",
    "1 & 0 \\\\\n",
    "0 & i \n",
    "\\end{bmatrix} \\text{ and } S(\\alpha|0\\rangle + \\beta|1\\rangle) = \\alpha|0\\rangle + i\\beta|1\\rangle\n",
    "$$\n",
    "\n",
    "$$\n",
    "T = \\begin{bmatrix}\n",
    "1 & 0 \\\\\n",
    "0 & e^{i\\pi/4} \n",
    "\\end{bmatrix} \\text{ and } T(\\alpha|0\\rangle + \\beta|1\\rangle) = \\alpha|0\\rangle + \\beta e^{i\\pi/4}|1\\rangle\n",
    "$$"
   ]
  },
  {
   "cell_type": "markdown",
   "id": "c475871a-d349-4d8b-b199-1d009afa4965",
   "metadata": {
    "slideshow": {
     "slide_type": "subslide"
    },
    "tags": []
   },
   "source": [
    "**Solution**\n",
    "\n",
    "We can use the fact that $e^{3i\\pi/4} = e^{i\\pi/4} \\cdot e^{i\\pi/2}$ and $e^{i\\pi/2} = i$. From this the desired transformation is just the product of $T$ and $S$.\n",
    "\n",
    "The same in `qiskit` is:"
   ]
  },
  {
   "cell_type": "code",
   "execution_count": 12,
   "id": "e60a12e3-f9a6-4259-a2ce-91199347f6c3",
   "metadata": {
    "slideshow": {
     "slide_type": ""
    },
    "tags": []
   },
   "outputs": [
    {
     "name": "stdout",
     "output_type": "stream",
     "text": [
      "Statevector([ 0.        +0.j        , -0.70710678+0.70710678j],\n",
      "            dims=(2,))\n"
     ]
    }
   ],
   "source": [
    "qc = QuantumCircuit(1)\n",
    "qc.initialize(1, 0)\n",
    "\n",
    "qc.t(0)\n",
    "qc.s(0)\n",
    "\n",
    "sim = Aer.get_backend(\"statevector_simulator\")\n",
    "output_state = sim.run(qc).result().get_statevector(qc)\n",
    "print(output_state)"
   ]
  },
  {
   "cell_type": "code",
   "execution_count": 13,
   "id": "de1ce403-e050-4d95-a9e7-66ed9e0d0ac9",
   "metadata": {
    "scrolled": true,
    "slideshow": {
     "slide_type": ""
    },
    "tags": []
   },
   "outputs": [
    {
     "data": {
      "text/plain": [
       "(-0.7071067811865475+0.7071067811865476j)"
      ]
     },
     "execution_count": 13,
     "metadata": {},
     "output_type": "execute_result"
    }
   ],
   "source": [
    "import math\n",
    "\n",
    "math.e ** (3j * math.pi /4)"
   ]
  },
  {
   "cell_type": "markdown",
   "id": "ba1494f0-40fa-41e9-bfb2-3cc0ffa94adf",
   "metadata": {
    "slideshow": {
     "slide_type": "subslide"
    },
    "tags": []
   },
   "source": [
    "### Preparing a two-bit state\n",
    "\n",
    "Starting from the $|00\\rangle$ state, prepare the system to be in following state: $\\frac{1}{2}(|00\\rangle + |01\\rangle + |10\\rangle - |11\\rangle)$. Use the $H$ and Pauli gates, but do not forget that for every gate we can have a controlled version!"
   ]
  },
  {
   "cell_type": "markdown",
   "id": "d77597e7-e937-4a18-a6c3-86cb87feca21",
   "metadata": {
    "slideshow": {
     "slide_type": "subslide"
    },
    "tags": []
   },
   "source": [
    "**Solution**\n",
    "\n",
    "By tensor product of two $H$ gates, we can easily bring $|00\\rangle$ into the equal superposition of the basis states. But we are not done yet, since the amplitude of $|11\\rangle$ still needs to be changed to $-1$. If we had only one qubit, we could easily solve the problem by using the $Z$ gate, but with two qubits it is not so easy. (Also, using the $Z \\otimes Z$ transformation does not have the desired effect.)\n",
    "\n",
    "The solution is to use the controlled $Z$ gate (or $CZ$), since it can be used to transform $|11\\rangle$ into $-|11\\rangle$. The complete solution in `qiskit` is:"
   ]
  },
  {
   "cell_type": "code",
   "execution_count": 14,
   "id": "1a0738f8-f3de-4b34-bc8d-8f6fb7a904a8",
   "metadata": {
    "slideshow": {
     "slide_type": ""
    },
    "tags": []
   },
   "outputs": [
    {
     "name": "stdout",
     "output_type": "stream",
     "text": [
      "Statevector([ 0.5+0.j,  0.5+0.j,  0.5+0.j, -0.5+0.j],\n",
      "            dims=(2, 2))\n"
     ]
    }
   ],
   "source": [
    "qc = QuantumCircuit(2)\n",
    "\n",
    " \n",
    "qc.h([0,1]) # do hadamard gates on qubits 0 and 1\n",
    "qc.cz(0, 1)\n",
    "\n",
    "sim = Aer.get_backend(\"statevector_simulator\")\n",
    "output_state = sim.run(qc).result().get_statevector(qc)\n",
    "print(output_state)"
   ]
  },
  {
   "cell_type": "code",
   "execution_count": null,
   "id": "66b2ba94",
   "metadata": {
    "slideshow": {
     "slide_type": "notes"
    }
   },
   "outputs": [],
   "source": [
    "# Another possible solution is the following:\n",
    "# qc.h(0)\n",
    "# qc.x(0)\n",
    "# qc.z(0)\n",
    "# qc.x(0)\n",
    "# qc.h(1)\n",
    "# qc.y(1)\n",
    "# qc.x(1)\n",
    "# qc.z(1)\n",
    "# qc.x(1)"
   ]
  },
  {
   "cell_type": "markdown",
   "id": "f0a41731-0d4f-4238-bd4f-9ac38b0e2900",
   "metadata": {
    "slideshow": {
     "slide_type": "subslide"
    },
    "tags": []
   },
   "source": [
    "### Preparing a composite state with different phases\n",
    "\n",
    "Starting from $|00\\rangle$ prepare the follwing state: $\\frac{1}{2}(|00\\rangle + i|01\\rangle - |10\\rangle - i|11\\rangle)$. Which gates can we use to achieve this?\n",
    "\n",
    "Hint: First try to break the output state in to the tensor product of one qubit states."
   ]
  },
  {
   "cell_type": "markdown",
   "id": "67c8daa0-21fc-4364-bac7-75c3c84cd88e",
   "metadata": {
    "slideshow": {
     "slide_type": "subslide"
    },
    "tags": []
   },
   "source": [
    "**Solution**\n",
    "\n",
    "The output state can be broken up into the following tensor product:\n",
    "\n",
    "$$\n",
    "\\frac{1}{2}\\big(|00\\rangle + i|01\\rangle - |10\\rangle - i|11\\rangle\\big)\n",
    "= \\frac{1}{2}(|00\\rangle + \\big(|0\\rangle - |1\\rangle\\big) i|1\\rangle - |10\\rangle) =\n",
    "$$\n",
    "$$\n",
    "= \\frac{1}{2}\\big(\\big(|0\\rangle - |1\\rangle\\big) |0\\rangle + \\big(|0\\rangle - |1\\rangle\\big) i|1\\rangle\\big)\n",
    "= \\frac{1}{\\sqrt{2}}\\big(|0\\rangle - |1\\rangle\\big) \\otimes \\frac{1}{\\sqrt{2}}\\big(|0\\rangle + i|1\\rangle\\big)\n",
    "$$\n",
    "\n",
    "Because the output state is a composite state, we can work the two qubits separetly.\n",
    "\n",
    "The desired state is similar to the product of two $|+\\rangle = H|0\\rangle = \\frac{1}{\\sqrt{2}}(|0\\rangle + |1\\rangle)$ state, but the phases are not right.\n",
    "\n",
    "The first qubit is missing a $-1$, which can be fixed with the $Z$ gate. For the second qubit we need to use the previously learned $S$ gate. Putting it all together, the transformation is the follwing:\n",
    "\n",
    "$$\n",
    " ZH|0\\rangle \\otimes SH|0\\rangle\n",
    "$$"
   ]
  },
  {
   "cell_type": "markdown",
   "id": "ea211017-7cd1-46ec-ac0c-d01c79fac9d3",
   "metadata": {
    "slideshow": {
     "slide_type": "subslide"
    },
    "tags": []
   },
   "source": [
    "We can easily implement this in `qiskit`:"
   ]
  },
  {
   "cell_type": "code",
   "execution_count": 15,
   "id": "a138b851-5ffc-4803-9da7-151a9af43627",
   "metadata": {
    "slideshow": {
     "slide_type": ""
    },
    "tags": []
   },
   "outputs": [
    {
     "name": "stdout",
     "output_type": "stream",
     "text": [
      "Statevector([ 0.5+0.j , -0.5+0.j ,  0. +0.5j, -0. -0.5j],\n",
      "            dims=(2, 2))\n"
     ]
    }
   ],
   "source": [
    "qc = QuantumCircuit(2)\n",
    "\n",
    "qc.h([0,1])\n",
    "qc.z(0)\n",
    "qc.s(1) \n",
    "\n",
    "sim = Aer.get_backend(\"statevector_simulator\")\n",
    "output_state = sim.run(qc).result().get_statevector(qc)\n",
    "print(output_state)"
   ]
  },
  {
   "cell_type": "markdown",
   "id": "c320f38d-4d29-4c13-835a-2741678755ca",
   "metadata": {
    "slideshow": {
     "slide_type": "slide"
    },
    "tags": []
   },
   "source": [
    "## Swapping states\n",
    "\n",
    "We would like to create a unitary transform $U$ that swap the state of two qubits, that is:\n",
    "\n",
    "$$\n",
    "U(|\\theta\\rangle \\otimes |\\psi\\rangle) = |\\psi\\rangle \\otimes |\\theta\\rangle\n",
    "$$\n",
    "\n",
    "What is matrix of $U$? First look at the effect is has on the basis states in 4 dimension."
   ]
  },
  {
   "cell_type": "markdown",
   "id": "1f4095be-b861-452d-86e5-bd1406ea52ba",
   "metadata": {
    "slideshow": {
     "slide_type": "subslide"
    },
    "tags": []
   },
   "source": [
    "$U$ takes $|00\\rangle$ to $|00\\rangle$, $|01\\rangle$ to $|10\\rangle$, $|10\\rangle$ to $|01\\rangle$ and $|11\\rangle$ to $|11\\rangle$. That is:\n",
    "\n",
    "$$\n",
    "\\begin{align}\n",
    "U|00\\rangle &= |00\\rangle \\\\\n",
    "U|01\\rangle &= |10\\rangle \\\\\n",
    "U|10\\rangle &= |01\\rangle \\\\\n",
    "U|11\\rangle &= |11\\rangle\n",
    "\\end{align}\n",
    "$$\n",
    "\n",
    "From this we can write up the matrix form of $U$:\n",
    "\n",
    "$$\n",
    "U = \\begin{bmatrix}\n",
    "1 & 0 & 0 & 0 \\\\\n",
    "0 & 0 & 1 & 0 \\\\\n",
    "0 & 1 & 0 & 0 \\\\\n",
    "0 & 0 & 0 & 1\n",
    "\\end{bmatrix}\n",
    "$$\n",
    "\n",
    "But how can we achieve this by simple gates?"
   ]
  },
  {
   "cell_type": "markdown",
   "id": "c314de8e-774a-4a92-8a40-87d526704a09",
   "metadata": {
    "slideshow": {
     "slide_type": "subslide"
    },
    "tags": []
   },
   "source": [
    "There a number of different ways to swap the values of two variables in a programming language. One of the most well known way is the following:\n",
    "```python\n",
    "t = a\n",
    "a = b\n",
    "b = t\n",
    "```\n",
    "\n",
    "But we can achieve the same result using some bit-level trickery:\n",
    "```python\n",
    "a ^= b\n",
    "b ^= a\n",
    "a ^= b\n",
    "```\n",
    "\n",
    "Here `a ^= b` means elementwise `XOR` (mod 2 addition). Why does it work?\n",
    "\n",
    "```python\n",
    "a ^= b # After this a = a ^ b\n",
    "b ^= a # After this b = b ^ (a ^ b)\n",
    "a ^= b # After this a = (a ^ b) ^ (b ^ (a ^ b))\n",
    "```\n",
    "\n",
    "At the end: `b = b ^ (a ^ b) = a` and `a = (a ^ b) ^ (b ^ (a ^ b)) = b`, so the variables have indeed changed values and this transformation is reversible."
   ]
  },
  {
   "cell_type": "markdown",
   "id": "2b098fbe-3234-4ee4-892d-4f214723e03e",
   "metadata": {
    "slideshow": {
     "slide_type": "subslide"
    },
    "tags": []
   },
   "source": [
    "The `x_1 XOR x_2` operation for two bits can be thought of in the following way: if `x_1` is 1, we flip `x_2`.\n",
    "\n",
    "This is the behaviour of the $CNOT$ gate. This means that $U$ can be written as:\n",
    "\n",
    "<center><img src=\"swap_with_cnots.jpg\"></center>\n",
    "\n",
    "The name of $U$ is the $SWAP$ gate and because it is used in a number of different algorithms and protocols it has a special representation in a quantum circuits:\n",
    "\n",
    "<center><img src=\"swap_rep.png\" style=\"width: 10%\"></center>\n",
    "\n",
    "If your are interested in the $SWAP$ operation, you can find some interesting information [here](https://algassert.com/post/1717)."
   ]
  },
  {
   "cell_type": "markdown",
   "id": "41478c26-3ffd-4b44-842e-cdf09c18ec7e",
   "metadata": {
    "slideshow": {
     "slide_type": "subslide"
    },
    "tags": []
   },
   "source": [
    "Check that the three $CNOT$ gates work in the correct way:"
   ]
  },
  {
   "cell_type": "code",
   "execution_count": 16,
   "id": "42c99876-2b47-425c-83b2-fb24a729f9a6",
   "metadata": {
    "slideshow": {
     "slide_type": ""
    },
    "tags": []
   },
   "outputs": [
    {
     "data": {
      "image/png": "[encoded data removed]",
      "text/plain": [
       "<Figure size 327.252x144.48 with 1 Axes>"
      ]
     },
     "execution_count": 16,
     "metadata": {},
     "output_type": "execute_result"
    }
   ],
   "source": [
    "qc = QuantumCircuit(2)\n",
    "\n",
    "qc.initialize(0, 0)\n",
    "qc.initialize(1, 1)\n",
    "\n",
    "# This is a ^= b\n",
    "qc.cx(0, 1)\n",
    "# This is b ^= a\n",
    "qc.cx(1, 0)\n",
    "# And the end we perform a ^= b\n",
    "qc.cx(0, 1)\n",
    "\n",
    "qc.draw(\"mpl\")"
   ]
  },
  {
   "cell_type": "code",
   "execution_count": 17,
   "id": "1d397252-4e4f-4cae-be4a-0d39078ee027",
   "metadata": {
    "slideshow": {
     "slide_type": ""
    },
    "tags": []
   },
   "outputs": [
    {
     "name": "stdout",
     "output_type": "stream",
     "text": [
      "Statevector([0.+0.j, 1.+0.j, 0.+0.j, 0.+0.j],\n",
      "            dims=(2, 2))\n"
     ]
    }
   ],
   "source": [
    "sim = Aer.get_backend(\"statevector_simulator\")\n",
    "output_state = sim.run(qc).result().get_statevector(qc)\n",
    "print(output_state)"
   ]
  },
  {
   "cell_type": "markdown",
   "id": "3fd27f6b-e177-477f-85b2-820a96cc5365",
   "metadata": {
    "slideshow": {
     "slide_type": "subslide"
    },
    "tags": []
   },
   "source": [
    "The same can be done in the following way:"
   ]
  },
  {
   "cell_type": "code",
   "execution_count": 18,
   "id": "f1be905c-3234-489c-a30b-bae944ac801f",
   "metadata": {
    "slideshow": {
     "slide_type": ""
    },
    "tags": []
   },
   "outputs": [
    {
     "data": {
      "image/png": "[encoded data removed]",
      "text/plain": [
       "<Figure size 206.852x144.48 with 1 Axes>"
      ]
     },
     "execution_count": 18,
     "metadata": {},
     "output_type": "execute_result"
    }
   ],
   "source": [
    "qc = QuantumCircuit(2)\n",
    "\n",
    "qc.initialize(0, 0)\n",
    "qc.initialize(1, 1)\n",
    "\n",
    "qc.swap(0, 1)\n",
    "\n",
    "qc.draw(\"mpl\")"
   ]
  },
  {
   "cell_type": "code",
   "execution_count": 19,
   "id": "59f30532-79b6-456f-8382-740feffe4ee9",
   "metadata": {
    "slideshow": {
     "slide_type": ""
    },
    "tags": []
   },
   "outputs": [
    {
     "name": "stdout",
     "output_type": "stream",
     "text": [
      "Statevector([0.+0.j, 1.+0.j, 0.+0.j, 0.+0.j],\n",
      "            dims=(2, 2))\n"
     ]
    }
   ],
   "source": [
    "sim = Aer.get_backend(\"statevector_simulator\")\n",
    "output_state = sim.run(qc).result().get_statevector(qc)\n",
    "print(output_state)"
   ]
  },
  {
   "cell_type": "markdown",
   "id": "e7f8b96f-d704-460e-a19a-21e1fa0751b8",
   "metadata": {
    "slideshow": {
     "slide_type": "subslide"
    },
    "tags": []
   },
   "source": [
    "### Classical control structures in qiskit\n",
    "\n",
    "Classical control structures:"
   ]
  },
  {
   "cell_type": "code",
   "execution_count": 33,
   "id": "8fd98bc6-917e-4190-b742-6fbab32210c0",
   "metadata": {
    "slideshow": {
     "slide_type": ""
    },
    "tags": []
   },
   "outputs": [
    {
     "data": {
      "image/png": "[encoded data removed]",
      "text/plain": [
       "<Figure size 521.123x204.68 with 1 Axes>"
      ]
     },
     "execution_count": 33,
     "metadata": {},
     "output_type": "execute_result"
    }
   ],
   "source": [
    "# Of course, qiskit has if-else as well\n",
    "qubits = QuantumRegister(2)\n",
    "clbits = ClassicalRegister(2)\n",
    "circuit = QuantumCircuit(qubits, clbits)\n",
    "(q0, q1) = qubits\n",
    "(c0, c1) = clbits\n",
    " \n",
    "circuit.h(q0)\n",
    "circuit.measure(q0, c0)\n",
    "with circuit.if_test((c0, 1)) as _:\n",
    "    circuit.h(q1)\n",
    "with  _:\n",
    "    circuit.x(q1)\n",
    "circuit.measure(q1, c1)\n",
    " \n",
    "circuit.draw(\"mpl\")"
   ]
  },
  {
   "cell_type": "code",
   "execution_count": 34,
   "id": "462defbf-5488-49f5-b065-be44c1210082",
   "metadata": {
    "slideshow": {
     "slide_type": "subslide"
    },
    "tags": []
   },
   "outputs": [
    {
     "data": {
      "image/png": "[encoded data removed]",
      "text/plain": [
       "<Figure size 267.197x144.48 with 1 Axes>"
      ]
     },
     "execution_count": 34,
     "metadata": {},
     "output_type": "execute_result"
    }
   ],
   "source": [
    "# We can also use a for and a while loop:\n",
    "qubits = QuantumRegister(1)\n",
    "clbits = ClassicalRegister(1)\n",
    "circuit = QuantumCircuit(qubits, clbits)\n",
    "(q0,) = qubits\n",
    "(c0,) = clbits\n",
    " \n",
    "with circuit.for_loop(range(5)) as _:\n",
    "    circuit.x(q0)\n",
    "circuit.measure(q0, c0)\n",
    " \n",
    "circuit.draw(\"mpl\")"
   ]
  },
  {
   "cell_type": "markdown",
   "id": "a60d1852",
   "metadata": {
    "slideshow": {
     "slide_type": "slide"
    }
   },
   "source": [
    "## Optional bonus exercise:\n",
    "\n",
    "Try to implement the BB84 protocol.\n",
    "\n",
    "First: create a quantum random number generator:"
   ]
  },
  {
   "cell_type": "code",
   "execution_count": null,
   "id": "b827e3fa",
   "metadata": {},
   "outputs": [],
   "source": [
    "#random number generator here:\n",
    "def qrng():\n",
    "    \n",
    "    return result #return 0 or 1"
   ]
  },
  {
   "cell_type": "code",
   "execution_count": 73,
   "id": "46b4ebb6",
   "metadata": {
    "slideshow": {
     "slide_type": "notes"
    }
   },
   "outputs": [
    {
     "name": "stdout",
     "output_type": "stream",
     "text": [
      "0\n"
     ]
    }
   ],
   "source": [
    "#random number generator example solution:\n",
    "\n",
    "from qiskit import transpile\n",
    "\n",
    "def qrng():\n",
    "    qc = QuantumCircuit(1, 1)\n",
    "    qc.h(0)\n",
    "    qc.measure([0], [0])\n",
    "    \n",
    "    backend = AerSimulator()\n",
    "    job_sim = backend.run(transpile(qc, backend), shots=1, memory=True)\n",
    "    result_sim = job_sim.result()\n",
    "    counts = result_sim.get_counts()\n",
    "    result = int(list(counts)[0])\n",
    "       \n",
    "    return result #return 0 or 1\n",
    "\n",
    "print(qrng())"
   ]
  },
  {
   "cell_type": "markdown",
   "id": "74e1f927",
   "metadata": {},
   "source": [
    "#### Then create the BB84 protocol"
   ]
  },
  {
   "cell_type": "code",
   "execution_count": 74,
   "id": "ee8813b0",
   "metadata": {
    "slideshow": {
     "slide_type": "subslide"
    }
   },
   "outputs": [],
   "source": [
    "#BB84 circuit here\n",
    "gen_key_bits = []\n",
    "for i in range(20): #lets do 20 iterations of the protocol\n",
    "    qc = QuantumCircuit(1, 1)\n",
    "    #Alice encode here\n",
    "    \n",
    "    #Bob decode here\n",
    "    \n",
    "#Some post processing steps\n",
    "\n",
    "#finally print the generated key\n",
    "print(\"Generated key:\")\n",
    "print(gen_key_bits)"
   ]
  }
 ],
 "metadata": {
  "celltoolbar": "Slideshow",
  "kernelspec": {
   "display_name": "Python 3 (ipykernel)",
   "language": "python",
   "name": "python3"
  },
  "language_info": {
   "codemirror_mode": {
    "name": "ipython",
    "version": 3
   },
   "file_extension": ".py",
   "mimetype": "text/x-python",
   "name": "python",
   "nbconvert_exporter": "python",
   "pygments_lexer": "ipython3",
   "version": "3.9.7"
  },
  "rise": {
   "footer": "<h3>World!</h3>",
   "scroll": "true"
  }
 },
 "nbformat": 4,
 "nbformat_minor": 5
}
